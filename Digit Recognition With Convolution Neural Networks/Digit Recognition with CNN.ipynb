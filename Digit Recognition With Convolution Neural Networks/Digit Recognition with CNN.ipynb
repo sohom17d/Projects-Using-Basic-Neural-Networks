{
  "cells": [
    {
      "metadata": {
        "_uuid": "5c1b84baff0c63d2e677ba2caf3516d28bb0838c"
      },
      "cell_type": "markdown",
      "source": "# Convolutional Neural Network\n\n##### Digit Recognition on MNIST dataset"
    },
    {
      "metadata": {
        "_uuid": "68cf2841214b370c4b8441666c827592c3b35a66"
      },
      "cell_type": "markdown",
      "source": "Convolutional Neural Networks are are a special kind of multi-layer neural networks. Like almost every other neural networks they are trained with a version of the back-propagation algorithm. Where they differ is in the architecture.\nConvolutional Neural Networks are designed to recognize visual patterns directly from pixel images with minimal preprocessing.\nThey can recognize patterns with extreme variability (such as handwritten characters), and with robustness to distortions and simple geometric transformations."
    },
    {
      "metadata": {
        "_uuid": "ad1135a87a4012f2e8eb886f8673f5a9f7c218ed"
      },
      "cell_type": "markdown",
      "source": "##### Network architecture\n\n##### <span style=\"color:orange\">Conv->Pool->Conv->Pool->Dense->Dense</span>"
    },
    {
      "metadata": {
        "_uuid": "8ccf1ca27659c69c33832eff0ac4f0a76ac5b426"
      },
      "cell_type": "markdown",
      "source": "## Importing Libraries"
    },
    {
      "metadata": {
        "trusted": true,
        "_uuid": "6dc5281b7c37b2640f3f7dc5553b4d8e8953341e"
      },
      "cell_type": "code",
      "source": "import warnings\nwarnings.filterwarnings('ignore')",
      "execution_count": 1,
      "outputs": []
    },
    {
      "metadata": {
        "_uuid": "8f2839f25d086af736a60e9eeb907d3b93b6e0e5",
        "_cell_guid": "b1076dfc-b9ad-4769-8c92-a6c4dae69d19",
        "trusted": true
      },
      "cell_type": "code",
      "source": "import numpy as np\nimport pandas as pd\nimport tensorflow as tf\nimport matplotlib.pyplot as plt\nimport seaborn as sns\nsns.set()",
      "execution_count": 2,
      "outputs": []
    },
    {
      "metadata": {
        "_uuid": "8a893b26c1fcd57796193eb2bdaf9c57255d7cee"
      },
      "cell_type": "markdown",
      "source": "## Read dataset"
    },
    {
      "metadata": {
        "_cell_guid": "79c7e3d0-c299-4dcb-8224-4455121ee9b0",
        "_uuid": "d629ff2d2480ee46fbb7e2d37f6b5fab8052498a",
        "trusted": true
      },
      "cell_type": "code",
      "source": "import os\nprint(os.listdir(\"../input\"))",
      "execution_count": 3,
      "outputs": [
        {
          "output_type": "stream",
          "text": "['train.csv', 'sample_submission.csv', 'test.csv']\n",
          "name": "stdout"
        }
      ]
    },
    {
      "metadata": {
        "trusted": true,
        "_uuid": "51dd623225149f2e04735e8f4f0cbea04ebc09cb"
      },
      "cell_type": "code",
      "source": "train = pd.read_csv('../input/train.csv')",
      "execution_count": 4,
      "outputs": []
    },
    {
      "metadata": {
        "trusted": true,
        "_uuid": "81832390ce75a053f2db0fea5dfb206864959cba"
      },
      "cell_type": "code",
      "source": "train.head()",
      "execution_count": 5,
      "outputs": [
        {
          "output_type": "execute_result",
          "execution_count": 5,
          "data": {
            "text/plain": "   label  pixel0  pixel1    ...     pixel781  pixel782  pixel783\n0      1       0       0    ...            0         0         0\n1      0       0       0    ...            0         0         0\n2      1       0       0    ...            0         0         0\n3      4       0       0    ...            0         0         0\n4      0       0       0    ...            0         0         0\n\n[5 rows x 785 columns]",
            "text/html": "<div>\n<style scoped>\n    .dataframe tbody tr th:only-of-type {\n        vertical-align: middle;\n    }\n\n    .dataframe tbody tr th {\n        vertical-align: top;\n    }\n\n    .dataframe thead th {\n        text-align: right;\n    }\n</style>\n<table border=\"1\" class=\"dataframe\">\n  <thead>\n    <tr style=\"text-align: right;\">\n      <th></th>\n      <th>label</th>\n      <th>pixel0</th>\n      <th>pixel1</th>\n      <th>pixel2</th>\n      <th>pixel3</th>\n      <th>pixel4</th>\n      <th>pixel5</th>\n      <th>pixel6</th>\n      <th>pixel7</th>\n      <th>pixel8</th>\n      <th>pixel9</th>\n      <th>pixel10</th>\n      <th>pixel11</th>\n      <th>pixel12</th>\n      <th>pixel13</th>\n      <th>pixel14</th>\n      <th>pixel15</th>\n      <th>pixel16</th>\n      <th>pixel17</th>\n      <th>pixel18</th>\n      <th>pixel19</th>\n      <th>pixel20</th>\n      <th>pixel21</th>\n      <th>pixel22</th>\n      <th>pixel23</th>\n      <th>pixel24</th>\n      <th>pixel25</th>\n      <th>pixel26</th>\n      <th>pixel27</th>\n      <th>pixel28</th>\n      <th>pixel29</th>\n      <th>pixel30</th>\n      <th>pixel31</th>\n      <th>pixel32</th>\n      <th>pixel33</th>\n      <th>pixel34</th>\n      <th>pixel35</th>\n      <th>pixel36</th>\n      <th>pixel37</th>\n      <th>pixel38</th>\n      <th>...</th>\n      <th>pixel744</th>\n      <th>pixel745</th>\n      <th>pixel746</th>\n      <th>pixel747</th>\n      <th>pixel748</th>\n      <th>pixel749</th>\n      <th>pixel750</th>\n      <th>pixel751</th>\n      <th>pixel752</th>\n      <th>pixel753</th>\n      <th>pixel754</th>\n      <th>pixel755</th>\n      <th>pixel756</th>\n      <th>pixel757</th>\n      <th>pixel758</th>\n      <th>pixel759</th>\n      <th>pixel760</th>\n      <th>pixel761</th>\n      <th>pixel762</th>\n      <th>pixel763</th>\n      <th>pixel764</th>\n      <th>pixel765</th>\n      <th>pixel766</th>\n      <th>pixel767</th>\n      <th>pixel768</th>\n      <th>pixel769</th>\n      <th>pixel770</th>\n      <th>pixel771</th>\n      <th>pixel772</th>\n      <th>pixel773</th>\n      <th>pixel774</th>\n      <th>pixel775</th>\n      <th>pixel776</th>\n      <th>pixel777</th>\n      <th>pixel778</th>\n      <th>pixel779</th>\n      <th>pixel780</th>\n      <th>pixel781</th>\n      <th>pixel782</th>\n      <th>pixel783</th>\n    </tr>\n  </thead>\n  <tbody>\n    <tr>\n      <th>0</th>\n      <td>1</td>\n      <td>0</td>\n      <td>0</td>\n      <td>0</td>\n      <td>0</td>\n      <td>0</td>\n      <td>0</td>\n      <td>0</td>\n      <td>0</td>\n      <td>0</td>\n      <td>0</td>\n      <td>0</td>\n      <td>0</td>\n      <td>0</td>\n      <td>0</td>\n      <td>0</td>\n      <td>0</td>\n      <td>0</td>\n      <td>0</td>\n      <td>0</td>\n      <td>0</td>\n      <td>0</td>\n      <td>0</td>\n      <td>0</td>\n      <td>0</td>\n      <td>0</td>\n      <td>0</td>\n      <td>0</td>\n      <td>0</td>\n      <td>0</td>\n      <td>0</td>\n      <td>0</td>\n      <td>0</td>\n      <td>0</td>\n      <td>0</td>\n      <td>0</td>\n      <td>0</td>\n      <td>0</td>\n      <td>0</td>\n      <td>0</td>\n      <td>...</td>\n      <td>0</td>\n      <td>0</td>\n      <td>0</td>\n      <td>0</td>\n      <td>0</td>\n      <td>0</td>\n      <td>0</td>\n      <td>0</td>\n      <td>0</td>\n      <td>0</td>\n      <td>0</td>\n      <td>0</td>\n      <td>0</td>\n      <td>0</td>\n      <td>0</td>\n      <td>0</td>\n      <td>0</td>\n      <td>0</td>\n      <td>0</td>\n      <td>0</td>\n      <td>0</td>\n      <td>0</td>\n      <td>0</td>\n      <td>0</td>\n      <td>0</td>\n      <td>0</td>\n      <td>0</td>\n      <td>0</td>\n      <td>0</td>\n      <td>0</td>\n      <td>0</td>\n      <td>0</td>\n      <td>0</td>\n      <td>0</td>\n      <td>0</td>\n      <td>0</td>\n      <td>0</td>\n      <td>0</td>\n      <td>0</td>\n      <td>0</td>\n    </tr>\n    <tr>\n      <th>1</th>\n      <td>0</td>\n      <td>0</td>\n      <td>0</td>\n      <td>0</td>\n      <td>0</td>\n      <td>0</td>\n      <td>0</td>\n      <td>0</td>\n      <td>0</td>\n      <td>0</td>\n      <td>0</td>\n      <td>0</td>\n      <td>0</td>\n      <td>0</td>\n      <td>0</td>\n      <td>0</td>\n      <td>0</td>\n      <td>0</td>\n      <td>0</td>\n      <td>0</td>\n      <td>0</td>\n      <td>0</td>\n      <td>0</td>\n      <td>0</td>\n      <td>0</td>\n      <td>0</td>\n      <td>0</td>\n      <td>0</td>\n      <td>0</td>\n      <td>0</td>\n      <td>0</td>\n      <td>0</td>\n      <td>0</td>\n      <td>0</td>\n      <td>0</td>\n      <td>0</td>\n      <td>0</td>\n      <td>0</td>\n      <td>0</td>\n      <td>0</td>\n      <td>...</td>\n      <td>0</td>\n      <td>0</td>\n      <td>0</td>\n      <td>0</td>\n      <td>0</td>\n      <td>0</td>\n      <td>0</td>\n      <td>0</td>\n      <td>0</td>\n      <td>0</td>\n      <td>0</td>\n      <td>0</td>\n      <td>0</td>\n      <td>0</td>\n      <td>0</td>\n      <td>0</td>\n      <td>0</td>\n      <td>0</td>\n      <td>0</td>\n      <td>0</td>\n      <td>0</td>\n      <td>0</td>\n      <td>0</td>\n      <td>0</td>\n      <td>0</td>\n      <td>0</td>\n      <td>0</td>\n      <td>0</td>\n      <td>0</td>\n      <td>0</td>\n      <td>0</td>\n      <td>0</td>\n      <td>0</td>\n      <td>0</td>\n      <td>0</td>\n      <td>0</td>\n      <td>0</td>\n      <td>0</td>\n      <td>0</td>\n      <td>0</td>\n    </tr>\n    <tr>\n      <th>2</th>\n      <td>1</td>\n      <td>0</td>\n      <td>0</td>\n      <td>0</td>\n      <td>0</td>\n      <td>0</td>\n      <td>0</td>\n      <td>0</td>\n      <td>0</td>\n      <td>0</td>\n      <td>0</td>\n      <td>0</td>\n      <td>0</td>\n      <td>0</td>\n      <td>0</td>\n      <td>0</td>\n      <td>0</td>\n      <td>0</td>\n      <td>0</td>\n      <td>0</td>\n      <td>0</td>\n      <td>0</td>\n      <td>0</td>\n      <td>0</td>\n      <td>0</td>\n      <td>0</td>\n      <td>0</td>\n      <td>0</td>\n      <td>0</td>\n      <td>0</td>\n      <td>0</td>\n      <td>0</td>\n      <td>0</td>\n      <td>0</td>\n      <td>0</td>\n      <td>0</td>\n      <td>0</td>\n      <td>0</td>\n      <td>0</td>\n      <td>0</td>\n      <td>...</td>\n      <td>0</td>\n      <td>0</td>\n      <td>0</td>\n      <td>0</td>\n      <td>0</td>\n      <td>0</td>\n      <td>0</td>\n      <td>0</td>\n      <td>0</td>\n      <td>0</td>\n      <td>0</td>\n      <td>0</td>\n      <td>0</td>\n      <td>0</td>\n      <td>0</td>\n      <td>0</td>\n      <td>0</td>\n      <td>0</td>\n      <td>0</td>\n      <td>0</td>\n      <td>0</td>\n      <td>0</td>\n      <td>0</td>\n      <td>0</td>\n      <td>0</td>\n      <td>0</td>\n      <td>0</td>\n      <td>0</td>\n      <td>0</td>\n      <td>0</td>\n      <td>0</td>\n      <td>0</td>\n      <td>0</td>\n      <td>0</td>\n      <td>0</td>\n      <td>0</td>\n      <td>0</td>\n      <td>0</td>\n      <td>0</td>\n      <td>0</td>\n    </tr>\n    <tr>\n      <th>3</th>\n      <td>4</td>\n      <td>0</td>\n      <td>0</td>\n      <td>0</td>\n      <td>0</td>\n      <td>0</td>\n      <td>0</td>\n      <td>0</td>\n      <td>0</td>\n      <td>0</td>\n      <td>0</td>\n      <td>0</td>\n      <td>0</td>\n      <td>0</td>\n      <td>0</td>\n      <td>0</td>\n      <td>0</td>\n      <td>0</td>\n      <td>0</td>\n      <td>0</td>\n      <td>0</td>\n      <td>0</td>\n      <td>0</td>\n      <td>0</td>\n      <td>0</td>\n      <td>0</td>\n      <td>0</td>\n      <td>0</td>\n      <td>0</td>\n      <td>0</td>\n      <td>0</td>\n      <td>0</td>\n      <td>0</td>\n      <td>0</td>\n      <td>0</td>\n      <td>0</td>\n      <td>0</td>\n      <td>0</td>\n      <td>0</td>\n      <td>0</td>\n      <td>...</td>\n      <td>0</td>\n      <td>0</td>\n      <td>0</td>\n      <td>0</td>\n      <td>0</td>\n      <td>0</td>\n      <td>0</td>\n      <td>0</td>\n      <td>0</td>\n      <td>0</td>\n      <td>0</td>\n      <td>0</td>\n      <td>0</td>\n      <td>0</td>\n      <td>0</td>\n      <td>0</td>\n      <td>0</td>\n      <td>0</td>\n      <td>0</td>\n      <td>0</td>\n      <td>0</td>\n      <td>0</td>\n      <td>0</td>\n      <td>0</td>\n      <td>0</td>\n      <td>0</td>\n      <td>0</td>\n      <td>0</td>\n      <td>0</td>\n      <td>0</td>\n      <td>0</td>\n      <td>0</td>\n      <td>0</td>\n      <td>0</td>\n      <td>0</td>\n      <td>0</td>\n      <td>0</td>\n      <td>0</td>\n      <td>0</td>\n      <td>0</td>\n    </tr>\n    <tr>\n      <th>4</th>\n      <td>0</td>\n      <td>0</td>\n      <td>0</td>\n      <td>0</td>\n      <td>0</td>\n      <td>0</td>\n      <td>0</td>\n      <td>0</td>\n      <td>0</td>\n      <td>0</td>\n      <td>0</td>\n      <td>0</td>\n      <td>0</td>\n      <td>0</td>\n      <td>0</td>\n      <td>0</td>\n      <td>0</td>\n      <td>0</td>\n      <td>0</td>\n      <td>0</td>\n      <td>0</td>\n      <td>0</td>\n      <td>0</td>\n      <td>0</td>\n      <td>0</td>\n      <td>0</td>\n      <td>0</td>\n      <td>0</td>\n      <td>0</td>\n      <td>0</td>\n      <td>0</td>\n      <td>0</td>\n      <td>0</td>\n      <td>0</td>\n      <td>0</td>\n      <td>0</td>\n      <td>0</td>\n      <td>0</td>\n      <td>0</td>\n      <td>0</td>\n      <td>...</td>\n      <td>0</td>\n      <td>0</td>\n      <td>0</td>\n      <td>0</td>\n      <td>0</td>\n      <td>0</td>\n      <td>0</td>\n      <td>0</td>\n      <td>0</td>\n      <td>0</td>\n      <td>0</td>\n      <td>0</td>\n      <td>0</td>\n      <td>0</td>\n      <td>0</td>\n      <td>0</td>\n      <td>0</td>\n      <td>0</td>\n      <td>0</td>\n      <td>0</td>\n      <td>0</td>\n      <td>0</td>\n      <td>0</td>\n      <td>0</td>\n      <td>0</td>\n      <td>0</td>\n      <td>0</td>\n      <td>0</td>\n      <td>0</td>\n      <td>0</td>\n      <td>0</td>\n      <td>0</td>\n      <td>0</td>\n      <td>0</td>\n      <td>0</td>\n      <td>0</td>\n      <td>0</td>\n      <td>0</td>\n      <td>0</td>\n      <td>0</td>\n    </tr>\n  </tbody>\n</table>\n</div>"
          },
          "metadata": {}
        }
      ]
    },
    {
      "metadata": {
        "trusted": true,
        "_uuid": "ccf9f5f1fa835f5dc905525121737bf78a361d93"
      },
      "cell_type": "code",
      "source": "train.shape",
      "execution_count": 6,
      "outputs": [
        {
          "output_type": "execute_result",
          "execution_count": 6,
          "data": {
            "text/plain": "(42000, 785)"
          },
          "metadata": {}
        }
      ]
    },
    {
      "metadata": {
        "_uuid": "d82c855d573f81fe58bad78ce78b117256430d82"
      },
      "cell_type": "markdown",
      "source": "## Preprocessing"
    },
    {
      "metadata": {
        "trusted": true,
        "_uuid": "07903a32b7a21e10fab946efcdc3be4da12724a2"
      },
      "cell_type": "code",
      "source": "data_X = train.drop('label', axis=1).values\ndata_Y = train['label'].values",
      "execution_count": 7,
      "outputs": []
    },
    {
      "metadata": {
        "trusted": true,
        "_uuid": "23b5cdd8abd21ef18e61480eaf62c6cc1255c545"
      },
      "cell_type": "code",
      "source": "data_Y = np.eye(10)[data_Y]     #one hot encoding\n\ndata_X = data_X/255.0             #normalization\ndata_X = data_X.reshape(-1, 28, 28, 1)",
      "execution_count": 8,
      "outputs": []
    },
    {
      "metadata": {
        "trusted": true,
        "_uuid": "54c4a0039d6a6ad8fad7b39a8a55c3919f9247aa"
      },
      "cell_type": "code",
      "source": "print('Shape of data_X : ', data_X.shape)\nprint('Shape of data_Y : ', data_Y.shape)",
      "execution_count": 9,
      "outputs": [
        {
          "output_type": "stream",
          "text": "Shape of data_X :  (42000, 28, 28, 1)\nShape of data_Y :  (42000, 10)\n",
          "name": "stdout"
        }
      ]
    },
    {
      "metadata": {
        "trusted": true,
        "_uuid": "f304eb95304a178a61691aebc3edb16200516192"
      },
      "cell_type": "code",
      "source": "from sklearn.model_selection import train_test_split\ntrain_x, test_x, train_y, test_y = train_test_split(data_X, data_Y, test_size = 0.33)",
      "execution_count": 10,
      "outputs": []
    },
    {
      "metadata": {
        "trusted": true,
        "_uuid": "e6b108a8e338a1cb2f6fe192bf74f4a535855477"
      },
      "cell_type": "code",
      "source": "print('Shape of train_x \\t: ', train_x.shape)\nprint('Shape of train_y \\t: ', train_y.shape)\nprint('Shape of test_x  \\t: ', test_x.shape)\nprint('Shape of test_y  \\t: ', test_y.shape)",
      "execution_count": 11,
      "outputs": [
        {
          "output_type": "stream",
          "text": "Shape of train_x \t:  (28140, 28, 28, 1)\nShape of train_y \t:  (28140, 10)\nShape of test_x  \t:  (13860, 28, 28, 1)\nShape of test_y  \t:  (13860, 10)\n",
          "name": "stdout"
        }
      ]
    },
    {
      "metadata": {
        "_uuid": "9d4a1c2701d3fdeb6bd5b4f029e4cdca623d910e"
      },
      "cell_type": "markdown",
      "source": "## Helper Functions\n"
    },
    {
      "metadata": {
        "trusted": true,
        "_uuid": "e290841e413d206baa781bca0d4f83065a884f27"
      },
      "cell_type": "code",
      "source": "# Outputs a batch of data\ndef next_batch(batch_size, x, y):\n    \n    idx = np.arange(0, len(x))\n    np.random.shuffle(idx)\n    \n    idx = idx[: batch_size]\n    \n    x = [x[i] for i in idx]\n    y = [y[i] for i in idx]\n    \n    x = np.asarray(x)\n    y = np.asarray(y)\n    return x, y",
      "execution_count": 12,
      "outputs": []
    },
    {
      "metadata": {
        "trusted": true,
        "_uuid": "cc1b431e74c121236ac21891438b12b763969069"
      },
      "cell_type": "code",
      "source": "# Display 10 random images\ndef display_images(data, title, display_label = True):\n    x, y = data\n    x = x.reshape(-1, 28, 28)\n    y = np.argmax(y, axis=1)\n    fig, axes = plt.subplots(2, 5, figsize=(15, 5))\n    fig.subplots_adjust(hspace = 0.7, wspace = 0.7)\n    fig.suptitle(title, fontsize = 18)\n    for i, ax in enumerate(axes.flat):\n        ax.imshow(x[i], cmap='gray')\n        if display_label:\n            ax.set_xlabel(y[i], fontsize=14)\n        ax.set_xticks([])\n        ax.set_yticks([])\n    plt.show()\n",
      "execution_count": 13,
      "outputs": []
    },
    {
      "metadata": {
        "trusted": true,
        "_uuid": "df4456e7fae1a9f6488de26a718e7cccf04e4b21"
      },
      "cell_type": "code",
      "source": "# wrapper function for convolution layer\ndef conv2d(x, w, b, strides = 1, padding = 'SAME'):\n    x = tf.nn.conv2d(x, w, strides = [1, strides, strides, 1], padding = padding)\n    x = tf.nn.bias_add(x, b)\n    x = tf.nn.relu(x)\n    return x",
      "execution_count": 14,
      "outputs": []
    },
    {
      "metadata": {
        "trusted": true,
        "_uuid": "bdad61d30d7dbd9b7799be385d2670b6e64fe81d"
      },
      "cell_type": "code",
      "source": "# wrapper function for pooling layer\ndef maxpool2d(x, k = 2, padding = 'SAME'):\n    x = tf.nn.max_pool(x, ksize = [1, k, k, 1], strides = [1, k, k, 1], padding = padding)\n    return x ",
      "execution_count": 15,
      "outputs": []
    },
    {
      "metadata": {
        "trusted": true,
        "_uuid": "9a49b24dcced03ec5913acc860ad31b4088cbaec"
      },
      "cell_type": "code",
      "source": "# wrapper function for fully connected layer\ndef dense(x, w, b, activation = 'none'):\n    x = tf.matmul(x, w)\n    x = tf.nn.bias_add(x, b)\n    if activation == 'relu':\n        x = tf.nn.relu(x)  \n    return x",
      "execution_count": 16,
      "outputs": []
    },
    {
      "metadata": {
        "_uuid": "44da41c86a0d4c10cd22a50ccdf80c8e28d1607f"
      },
      "cell_type": "markdown",
      "source": "## Visualization"
    },
    {
      "metadata": {
        "_uuid": "6aed1c7f0a9ef4ee81cbcf4995f05d98060651a7"
      },
      "cell_type": "markdown",
      "source": "Display 10 random images and their labels from the training data"
    },
    {
      "metadata": {
        "trusted": true,
        "_uuid": "1675ff521d972ebb60702d9397adbf5b3f6b4d6f"
      },
      "cell_type": "code",
      "source": "display_images(next_batch(10, train_x, train_y), 'Training Images')",
      "execution_count": 17,
      "outputs": [
        {
          "output_type": "display_data",
          "data": {
            "text/plain": "<Figure size 1080x360 with 10 Axes>",
            "image/png": "[encoded data removed]"
          },
          "metadata": {}
        }
      ]
    },
    {
      "metadata": {
        "_uuid": "442d35f0637b1a7c9afaebc53a694a60b9c3b260"
      },
      "cell_type": "markdown",
      "source": "## Model"
    },
    {
      "metadata": {
        "trusted": true,
        "_uuid": "2ffe1f753a17b6b633005466fcc21764b888e534"
      },
      "cell_type": "code",
      "source": "# training hyperparameters\nlearning_rate = 0.001\nepochs = 10000\nbatch_size = 128",
      "execution_count": 18,
      "outputs": []
    },
    {
      "metadata": {
        "trusted": true,
        "_uuid": "e44c58f5c7ca04cc472b252713406890102e2e95"
      },
      "cell_type": "code",
      "source": "# image dimensions and number of classes\nimage_width = 28\nimage_height = 28\ncolor_channels = 1\nn_classes = 10",
      "execution_count": 19,
      "outputs": []
    },
    {
      "metadata": {
        "trusted": true,
        "_uuid": "3a65226bde6fb236dbca8b40c0aecfa46e8f8bac"
      },
      "cell_type": "code",
      "source": "# placeholders\nX = tf.placeholder(tf.float32, shape = [None, image_width, image_height, color_channels]) \nY = tf.placeholder(tf.float32, shape = [None, n_classes]) ",
      "execution_count": 20,
      "outputs": []
    },
    {
      "metadata": {
        "trusted": true,
        "_uuid": "591eeca2ef41acac3382b0692a53530a953b8002"
      },
      "cell_type": "code",
      "source": "# parameters\nweights = { 'w1' : tf.Variable(tf.truncated_normal([5, 5, 1, 32], stddev=0.1)),\n            'w2' : tf.Variable(tf.truncated_normal([5, 5, 32, 64], stddev=0.1)),\n            'w3' : tf.Variable(tf.truncated_normal([7*7*64,1024], stddev=0.1)),\n            'w4' : tf.Variable(tf.truncated_normal([1024, 10], stddev=0.1)) }\n\nbiases = {  'b1' : tf.constant(0.1 ,shape=[32]),\n            'b2' : tf.constant(0.1 ,shape=[64]),\n            'b3' : tf.constant(0.1 ,shape=[1024]),\n            'b4' : tf.constant(0.1 ,shape=[10]) }",
      "execution_count": 21,
      "outputs": []
    },
    {
      "metadata": {
        "trusted": true,
        "_uuid": "e7becf91a2f445515916c313bf8c54b5fa53d74b"
      },
      "cell_type": "code",
      "source": "def ConvNet(x, weight, bias):\n     # Layer 1 : Convolution : input (28x28x1); output (28x28x32)\n    conv1 = conv2d(x, weight['w1'], bias['b1'])\n    # Layer 2 : Sub sampling : input (28x28x32); outpute (14x14x32)\n    pool1 = maxpool2d(conv1) \n    # Layer 3 : Convolution : input (14x14x32); output (14x14x64)\n    conv2 = conv2d(pool1, weight['w2'], bias['b2'])\n    # Layer 4: Sub sampling : input (14x14x64); output (7x7x64)\n    pool2 = maxpool2d(conv2) \n    # Flatten the 2-d image to a 1-d vector : input (7x7x64); output (3136)\n    flat = tf.reshape(pool2, [-1, weights['w3'].get_shape().as_list()[0]])\n    # Layer 5: Fully Connected : input (3136); output (1024)\n    fc1 = dense(flat, weight['w3'], bias['b3'], 'relu')\n    # Layer 6: Fully Connected : input (1024); output (10)\n    logits = dense(fc1, weight['w4'], bias['b4'], 'none') \n    \n    return logits",
      "execution_count": 22,
      "outputs": []
    },
    {
      "metadata": {
        "trusted": true,
        "_uuid": "6fcc81710267a4b9dbb897f3dcceb5931253e4c9"
      },
      "cell_type": "code",
      "source": "# model output\nlogits = ConvNet(X, weights, biases)\n# loss function\nloss = tf.reduce_mean(tf.nn.softmax_cross_entropy_with_logits(logits = logits, labels = Y))\n# optimizer\noptimizer = tf.train.AdamOptimizer(learning_rate = learning_rate)\n# minimize loss\ntrain = optimizer.minimize(loss)",
      "execution_count": 23,
      "outputs": []
    },
    {
      "metadata": {
        "trusted": true,
        "_uuid": "bf56ba2f00a586f59c42f434fe8e308c8680a95f"
      },
      "cell_type": "code",
      "source": "correct_pred = tf.equal(tf.argmax(logits, 1), tf.argmax(Y, 1))\naccuracy = tf.reduce_mean(tf.cast(correct_pred, tf.float32))",
      "execution_count": 24,
      "outputs": []
    },
    {
      "metadata": {
        "trusted": true,
        "_uuid": "cae10b22e013c94ba1ad9c9a5891f40481bef166"
      },
      "cell_type": "code",
      "source": "init = tf.global_variables_initializer()",
      "execution_count": 25,
      "outputs": []
    },
    {
      "metadata": {
        "_uuid": "a0033367430b5617b8df740446c7f816a66b484b"
      },
      "cell_type": "markdown",
      "source": "## Train"
    },
    {
      "metadata": {
        "trusted": true,
        "_uuid": "76067fef8f4d92914dcea81cba5cbdb0f7020fe5"
      },
      "cell_type": "code",
      "source": "with tf.Session() as sess:\n    \n    sess.run(init)\n    \n    cost_hist, acc_hist = [], []\n    \n    for epoch in range(1, epochs + 1):\n        \n        batch_x, batch_y = next_batch(batch_size, train_x, train_y)\n        \n        sess.run(train, feed_dict = { X : batch_x, Y : batch_y})\n    \n        if epoch % 500 == 0:\n            c, acc = sess.run([loss, accuracy], feed_dict = { X : batch_x, Y : batch_y})\n            cost_hist.append(c)\n            acc_hist.append(acc)\n            print('Epoch ' + str(epoch) + ', Cost: ' + str(c) + ', Accuracy: ' + str(acc))\n\n    print('-' * 70)\n    print('\\nOptimization Finished\\n')\n    print('Accuracy on train data \\t: ' + str(sess.run(accuracy, feed_dict = { X : train_x, Y :train_y}) * 100) + ' %')\n    print('Accuracy on test data  \\t: ' + str(sess.run(accuracy, feed_dict = { X : test_x, Y : test_y}) * 100) + ' %')",
      "execution_count": 26,
      "outputs": [
        {
          "output_type": "stream",
          "text": "Epoch 500, Cost: 0.109709665, Accuracy: 0.96875\nEpoch 1000, Cost: 0.006271188, Accuracy: 1.0\nEpoch 1500, Cost: 0.0028693937, Accuracy: 1.0\nEpoch 2000, Cost: 0.008688201, Accuracy: 0.9921875\nEpoch 2500, Cost: 0.0010951553, Accuracy: 1.0\nEpoch 3000, Cost: 0.00079769385, Accuracy: 1.0\nEpoch 3500, Cost: 0.00043886036, Accuracy: 1.0\nEpoch 4000, Cost: 0.0010493284, Accuracy: 1.0\nEpoch 4500, Cost: 0.00046953777, Accuracy: 1.0\nEpoch 5000, Cost: 0.00065154134, Accuracy: 1.0\nEpoch 5500, Cost: 0.0005224369, Accuracy: 1.0\nEpoch 6000, Cost: 0.00034485242, Accuracy: 1.0\nEpoch 6500, Cost: 0.0009569601, Accuracy: 1.0\nEpoch 7000, Cost: 0.00011419409, Accuracy: 1.0\nEpoch 7500, Cost: 7.714563e-05, Accuracy: 1.0\nEpoch 8000, Cost: 1.2490909e-05, Accuracy: 1.0\nEpoch 8500, Cost: 4.4237072e-07, Accuracy: 1.0\nEpoch 9000, Cost: 1.1206437e-05, Accuracy: 1.0\nEpoch 9500, Cost: 0.00015300624, Accuracy: 1.0\nEpoch 10000, Cost: 0.00017225562, Accuracy: 1.0\n----------------------------------------------------------------------\n\nOptimization Finished\n\nAccuracy on train data \t: 99.85074400901794 %\nAccuracy on test data  \t: 98.46320152282715 %\n",
          "name": "stdout"
        }
      ]
    },
    {
      "metadata": {
        "_uuid": "3dae1517ed7432a2195398140fd5ba22540dca77"
      },
      "cell_type": "markdown",
      "source": "## Change in cost function"
    },
    {
      "metadata": {
        "trusted": true,
        "_uuid": "a8da9e7b2ffb5822d17cfbcf1767459b62f25386"
      },
      "cell_type": "code",
      "source": "eps = list(range(500, epoch+500, 500))\nplt.plot(eps, cost_hist)\nplt.title(\"Change in cost\")\nplt.ylabel('Cost')\nplt.xlabel('Epoch')\nplt.show()",
      "execution_count": 27,
      "outputs": [
        {
          "output_type": "display_data",
          "data": {
            "text/plain": "<Figure size 432x288 with 1 Axes>",
            "image/png": "[encoded data removed]"
          },
          "metadata": {}
        }
      ]
    },
    {
      "metadata": {
        "_uuid": "10c5c88453438516248f47fa4d894cccac758797"
      },
      "cell_type": "markdown",
      "source": "## Change in accuracy"
    },
    {
      "metadata": {
        "trusted": true,
        "_uuid": "545a2592072ed0e4ceb9c39d12a60b9dbb666d94"
      },
      "cell_type": "code",
      "source": "eps = list(range(500, epoch+500, 500))\nplt.plot(eps, acc_hist)\nplt.title(\"Change in accuracy\")\nplt.ylabel('Accuracy')\nplt.xlabel('Epoch')\nplt.show()",
      "execution_count": 28,
      "outputs": [
        {
          "output_type": "display_data",
          "data": {
            "text/plain": "<Figure size 432x288 with 1 Axes>",
            "image/png": "[encoded data removed]"
          },
          "metadata": {}
        }
      ]
    },
    {
      "metadata": {
        "_uuid": "393a1e67b8ed3b2a31f2b82a374b46894e2b22c5"
      },
      "cell_type": "markdown",
      "source": "## Validate"
    },
    {
      "metadata": {
        "trusted": true,
        "_uuid": "aef0973930ea51e68bff33ff1350871a1d27d806"
      },
      "cell_type": "code",
      "source": "# KFold cross validation\nfrom sklearn.model_selection import KFold\n\nkf = KFold(n_splits = 5)\n\ncurrent_fold = 1\n\ntrain_acc_hist = []\ntest_acc_hist = []\n\nfor train_index, test_index in kf.split(data_Y):\n     \n    KFold_X_train = data_X[list(train_index)]\n    KFold_X_test = data_X[test_index]\n    KFold_Y_train = data_Y[train_index]\n    KFold_Y_test = data_Y[test_index]\n\n    # run the graph\n    with tf.Session() as sess:\n    \n        sess.run(init)\n\n        for epoch in range(1, epochs + 1):\n\n            batch_x, batch_y = next_batch(batch_size, KFold_X_train, KFold_Y_train)\n\n            sess.run(train, feed_dict = { X : batch_x, Y : batch_y })\n    \n        train_accuracy = sess.run(accuracy, feed_dict = { X : KFold_X_train, Y :KFold_Y_train }) * 100\n        test_accuracy = sess.run(accuracy, feed_dict = { X : KFold_X_test, Y : KFold_Y_test }) * 100\n        \n        train_acc_hist.append(train_accuracy)\n        test_acc_hist.append(test_accuracy)\n\n        print('\\nFOLD-' + str(current_fold) + '\\n')\n        print('Accuracy on train data \\t:  {0:.2f} %'.format(train_accuracy))\n        print('Accuracy on test data  \\t:  {0:.2f} %'.format(test_accuracy))\n        \n        \n        W = sess.run(weights)\n        B = sess.run(biases)\n    \n\n    current_fold = current_fold +1\n    \ntrain_cross_val_score = np.mean(train_acc_hist)    \ntest_cross_val_score = np.mean(test_acc_hist)\n\nprint('-' * 70)\nprint('\\nOPTIMIZATION FINISHED\\n')\nprint('\\n\\nFINAL TRAIN SET K-FOLD CROSS VALIDATION ACCURACY \\t:  {0:.2f}'.format(train_cross_val_score))\nprint('\\nFINAL TEST SET K-FOLD CROSS VALIDATION ACCURACY    \\t:  {0:.2f}'.format(test_cross_val_score))",
      "execution_count": 29,
      "outputs": [
        {
          "output_type": "stream",
          "text": "\nFOLD-1\n\nAccuracy on train data \t:  99.94 %\nAccuracy on test data  \t:  98.70 %\n\nFOLD-2\n\nAccuracy on train data \t:  100.00 %\nAccuracy on test data  \t:  99.13 %\n\nFOLD-3\n\nAccuracy on train data \t:  99.81 %\nAccuracy on test data  \t:  98.55 %\n\nFOLD-4\n\nAccuracy on train data \t:  99.87 %\nAccuracy on test data  \t:  98.96 %\n\nFOLD-5\n\nAccuracy on train data \t:  99.99 %\nAccuracy on test data  \t:  99.18 %\n----------------------------------------------------------------------\n\nOPTIMIZATION FINISHED\n\n\n\nFINAL TRAIN SET K-FOLD CROSS VALIDATION ACCURACY \t:  99.92\n\nFINAL TEST SET K-FOLD CROSS VALIDATION ACCURACY    \t:  98.90\n",
          "name": "stdout"
        }
      ]
    },
    {
      "metadata": {
        "_uuid": "a30211282101b00e85896d1c84e5d906e7f84619"
      },
      "cell_type": "markdown",
      "source": "## Save the parameters of the model"
    },
    {
      "metadata": {
        "trusted": true,
        "_uuid": "c9e91faab4e8a2fa24efb932d07645df766307e1"
      },
      "cell_type": "code",
      "source": "for key in W.keys():\n    np.save(key, W[key])\nfor key in B.keys():\n    np.save(key, B[key])",
      "execution_count": 30,
      "outputs": []
    },
    {
      "metadata": {
        "_uuid": "5f168294aad1a75fa799a6261cb2fca540930692"
      },
      "cell_type": "markdown",
      "source": "## Predict"
    },
    {
      "metadata": {
        "trusted": true,
        "_uuid": "3adc7cf21e525f6877300f92720dbed431967d3e"
      },
      "cell_type": "code",
      "source": "# load the prediction dataset\ntest = pd.read_csv('../input/test.csv')\n\n# preprocess the prediction dataset \ndata_X = test.values\ndata_X = data_X.reshape(-1, 28, 28, 1)     # reshape\ndata_X = data_X/255.0     # normalize",
      "execution_count": 31,
      "outputs": []
    },
    {
      "metadata": {
        "trusted": true,
        "_uuid": "15733aca080dd2ce5656688e4c6bcf69c13c974d"
      },
      "cell_type": "code",
      "source": "# set the parameters to the learned parameters\nfor key in weights.keys():\n    weights[key] = tf.Variable(W[key])\nfor key in biases.keys():\n    biases[key] = tf.Variable(B[key])",
      "execution_count": 32,
      "outputs": []
    },
    {
      "metadata": {
        "trusted": true,
        "_uuid": "d6794aac481d21ad0e70be7aef853ad2291053fc"
      },
      "cell_type": "code",
      "source": "logits = ConvNet(X, weights, biases)",
      "execution_count": 33,
      "outputs": []
    },
    {
      "metadata": {
        "trusted": true,
        "_uuid": "e654824dc66b2d028cb167518bee1862c823860e"
      },
      "cell_type": "code",
      "source": "with tf.Session() as sess:\n    \n    for key in weights.keys():\n        sess.run(weights[key].initializer)\n    for key in biases.keys():\n        sess.run(biases[key].initializer)\n    \n    output = sess.run(logits, feed_dict= {X : data_X}) ",
      "execution_count": 34,
      "outputs": []
    },
    {
      "metadata": {
        "_uuid": "170a60dabb8590e959e1cd646e0c0beae799c252"
      },
      "cell_type": "markdown",
      "source": "## Visualization"
    },
    {
      "metadata": {
        "_uuid": "8536b15625257330239a136b04005f348ca6151f"
      },
      "cell_type": "markdown",
      "source": "Display the images and their labels as predicted by the ConvNet"
    },
    {
      "metadata": {
        "trusted": true,
        "_uuid": "ccd6da46bdb89765f26dc4cd17b0c89bfc5a2702"
      },
      "cell_type": "code",
      "source": "display_images(next_batch(10, data_X, output), 'Prediction Images')",
      "execution_count": 35,
      "outputs": [
        {
          "output_type": "display_data",
          "data": {
            "text/plain": "<Figure size 1080x360 with 10 Axes>",
            "image/png": "[encoded data removed]"
          },
          "metadata": {}
        }
      ]
    },
    {
      "metadata": {
        "trusted": true,
        "_uuid": "726872d0dbdeef42325616f000b327ab8f0c1103"
      },
      "cell_type": "code",
      "source": "predictions = np.argmax(output, axis=1)",
      "execution_count": 36,
      "outputs": []
    },
    {
      "metadata": {
        "_uuid": "87bef2a4f9d835a01e1967ec57d48fa094dad061"
      },
      "cell_type": "markdown",
      "source": "## Kaggle Submission"
    },
    {
      "metadata": {
        "_uuid": "18c1ae1b4289c830e7a6d7d881c65c7654a0f292"
      },
      "cell_type": "markdown",
      "source": "Code to make the submission file for kaggle"
    },
    {
      "metadata": {
        "trusted": true,
        "_uuid": "5db325ee6872b3f27e858f766b76c1fdcde26b5a"
      },
      "cell_type": "code",
      "source": "index = test.index +1 \n\nImageId = list(index)\nLabel = list(predictions)\n\ndf = pd.DataFrame([ImageId ,Label])\ndf = df.T\ndf.columns = [['ImageId', 'Label']]\n\ndf.to_csv('submission.csv', index=False)",
      "execution_count": 37,
      "outputs": []
    }
  ],
  "metadata": {
    "kernelspec": {
      "display_name": "Python 3",
      "language": "python",
      "name": "python3"
    },
    "language_info": {
      "name": "python",
      "version": "3.6.6",
      "mimetype": "text/x-python",
      "codemirror_mode": {
        "name": "ipython",
        "version": 3
      },
      "pygments_lexer": "ipython3",
      "nbconvert_exporter": "python",
      "file_extension": ".py"
    }
  },
  "nbformat": 4,
  "nbformat_minor": 1
}